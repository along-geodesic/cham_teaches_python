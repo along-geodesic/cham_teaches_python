{
 "cells": [
  {
   "cell_type": "markdown",
   "metadata": {},
   "source": [
    "<img src=\"https://www.python.org/static/img/python-logo.png\">\n",
    "\n",
    "# Welcome to my lessons\n",
    "\n",
    "---\n",
    "\n",
    "**Bo Zhang** (NAOC, <mailto:bozhang@nao.cas.cn>) will have a few lessons on python.\n",
    "\n",
    "- These are very useful knowledge, skills and code styles when you use `python` to process astronomical data.\n",
    "- All materials can be found on [my github page](https://github.com/hypergravity/cham_teaches_python).\n",
    "- jupyter (ipython notebook) is recommeded to use\n",
    "\n",
    "---\n",
    "These lectures are organized as below:\n",
    "1. install python\n",
    "2. basic syntax\n",
    "3. numerical computing\n",
    "4. plotting\n",
    "5. astronomical data processing\n",
    "6. high performance computing\n",
    "7. version control\n"
   ]
  },
  {
   "cell_type": "markdown",
   "metadata": {},
   "source": [
    "# + - * /"
   ]
  },
  {
   "cell_type": "code",
   "execution_count": 27,
   "metadata": {
    "collapsed": false,
    "scrolled": true
   },
   "outputs": [
    {
     "name": "stdout",
     "output_type": "stream",
     "text": [
      "Populating the interactive namespace from numpy and matplotlib\n",
      "[0 1 2 3 4 5 6 7 8 9]\n"
     ]
    }
   ],
   "source": [
    "%pylab inline\n",
    "a = np.arange(10)\n",
    "print a"
   ]
  },
  {
   "cell_type": "code",
   "execution_count": 28,
   "metadata": {
    "collapsed": false
   },
   "outputs": [
    {
     "name": "stdout",
     "output_type": "stream",
     "text": [
      "<type 'numpy.ndarray'>\n",
      "10\n",
      "10\n",
      "(10,)\n",
      "(10,)\n",
      "(2, 5)\n"
     ]
    }
   ],
   "source": [
    "print type(a)\n",
    "print len(a)\n",
    "print size(a)\n",
    "print shape(a)\n",
    "print a.shape\n",
    "print a.reshape((-1, 5)).shape"
   ]
  },
  {
   "cell_type": "code",
   "execution_count": 29,
   "metadata": {
    "collapsed": false
   },
   "outputs": [],
   "source": [
    "b = a + np.random.randn(10)"
   ]
  },
  {
   "cell_type": "code",
   "execution_count": 30,
   "metadata": {
    "collapsed": false
   },
   "outputs": [
    {
     "data": {
      "text/plain": [
       "[<matplotlib.lines.Line2D at 0x7fd382a140d0>]"
      ]
     },
     "execution_count": 30,
     "metadata": {},
     "output_type": "execute_result"
    },
    {
     "data": {
      "image/png": "[encoded data removed]",
      "text/plain": [
       "<matplotlib.figure.Figure at 0x7fd382d4cfd0>"
      ]
     },
     "metadata": {},
     "output_type": "display_data"
    }
   ],
   "source": [
    "plt.plot(b)"
   ]
  },
  {
   "cell_type": "code",
   "execution_count": 33,
   "metadata": {
    "collapsed": false
   },
   "outputs": [
    {
     "name": "stdout",
     "output_type": "stream",
     "text": [
      "a+b\n",
      "[ -0.27759201   2.05842658   3.20374082   6.46757541   8.07600294\n",
      "   9.51417164  14.0405057   13.73677165  15.8929647   18.63282234]\n",
      "a-b\n",
      "[ 0.27759201 -0.05842658  0.79625918 -0.46757541 -0.07600294  0.48582836\n",
      " -2.0405057   0.26322835  0.1070353  -0.63282234]\n",
      "a*b\n",
      "[ -0.           1.05842658   2.40748165  10.40272624  16.30401178\n",
      "  22.5708582   48.24303419  47.15740153  63.14371761  86.6954011 ]\n",
      "a/b\n",
      "[-0.          0.94479865  1.66148722  0.86515782  0.98135356  1.10762293\n",
      "  0.74622172  1.03907337  1.01356085  0.93430561]\n",
      "a^b\n",
      "[             inf   1.00000000e+00   2.30336146e+00   4.51288153e+01\n",
      "   2.84444996e+02   1.42978445e+03   1.80604914e+06   4.93437913e+05\n",
      "   1.34294241e+07   1.55613965e+09]\n"
     ]
    },
    {
     "name": "stderr",
     "output_type": "stream",
     "text": [
      "/usr/local/lib/python2.7/dist-packages/ipykernel/__main__.py:10: RuntimeWarning: divide by zero encountered in power\n"
     ]
    }
   ],
   "source": [
    "print 'a+b'\n",
    "print a+b\n",
    "print 'a-b'\n",
    "print a-b\n",
    "print 'a*b'\n",
    "print a*b\n",
    "print 'a/b'\n",
    "print a/b\n",
    "print 'a^b'\n",
    "print a**b"
   ]
  },
  {
   "cell_type": "markdown",
   "metadata": {},
   "source": [
    "# numpy tools"
   ]
  },
  {
   "cell_type": "code",
   "execution_count": null,
   "metadata": {
    "collapsed": true
   },
   "outputs": [],
   "source": []
  },
  {
   "cell_type": "markdown",
   "metadata": {},
   "source": [
    "# vectorization"
   ]
  },
  {
   "cell_type": "markdown",
   "metadata": {},
   "source": [
    "# "
   ]
  },
  {
   "cell_type": "code",
   "execution_count": null,
   "metadata": {
    "collapsed": true
   },
   "outputs": [],
   "source": []
  },
  {
   "cell_type": "code",
   "execution_count": null,
   "metadata": {
    "collapsed": true
   },
   "outputs": [],
   "source": []
  },
  {
   "cell_type": "code",
   "execution_count": null,
   "metadata": {
    "collapsed": true
   },
   "outputs": [],
   "source": []
  }
 ],
 "metadata": {
  "kernelspec": {
   "display_name": "Python 2",
   "language": "python",
   "name": "python2"
  },
  "language_info": {
   "codemirror_mode": {
    "name": "ipython",
    "version": 2
   },
   "file_extension": ".py",
   "mimetype": "text/x-python",
   "name": "python",
   "nbconvert_exporter": "python",
   "pygments_lexer": "ipython2",
   "version": "2.7.6"
  }
 },
 "nbformat": 4,
 "nbformat_minor": 0
}
