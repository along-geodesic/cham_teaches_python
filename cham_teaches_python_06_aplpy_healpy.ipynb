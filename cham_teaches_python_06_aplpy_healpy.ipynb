{
 "cells": [
  {
   "cell_type": "markdown",
   "metadata": {},
   "source": [
    "<img src=\"https://www.python.org/static/img/python-logo.png\">\n",
    "\n",
    "# Welcome to my lessons\n",
    "\n",
    "---\n",
    "\n",
    "**Bo Zhang** (NAOC, <mailto:bozhang@nao.cas.cn>) will have a few lessons on python.\n",
    "\n",
    "- These are **very useful knowledge, skills and code styles** when you use `python` to process astronomical data.\n",
    "- All materials can be found on [**my github page**](https://github.com/hypergravity/cham_teaches_python).\n",
    "- **jupyter notebook** (formerly named **ipython notebook**) is recommeded to use\n",
    "\n",
    "---\n",
    "These lectures are organized as below:\n",
    "1. install python\n",
    "2. basic syntax\n",
    "3. numerical computing\n",
    "4. scientific computing\n",
    "5. plotting\n",
    "6. astronomical data processing\n",
    "7. high performance computing\n",
    "8. version control\n"
   ]
  },
  {
   "cell_type": "markdown",
   "metadata": {},
   "source": [
    "# APLpy basics\n",
    "\n",
    "[aplpyreaddocs](http://aplpy.readthedocs.io/en/stable/#)\n",
    "\n",
    "### - Introduction\n",
    "\n",
    "  **APLpy : Astronomical Plotting Library in Python.**\n",
    "\n",
    "  For convenient fits image or cubes plotting with astronomical coordinates\n",
    "\n",
    "### - Dependencies\n",
    "\n",
    "  APLpy is based on **matplotlib**, so any matplotlib originated functions/classes can be    easily adopted.\n",
    "\n",
    "  For image reprojection or mosaicing purpose, APLpy relies on **Montage**, which is developed by IPAC team. To enable functions like making RGB cube, one should first install Montage package.\n",
    "\n",
    "[Montage package docs](http://montage.ipac.caltech.edu/docs/)\n",
    "\n",
    "### - Tips\n",
    "\n",
    "  For plotting plenty of similar images, one could define a function to set up a set of standard properties (*i.e. def standard_setup( )*), such as axis and tick labels and use this user-defined function instead of the calling the APLpy functions time to time.\n",
    "\n",
    "  Of course, a different setting by directly calling APLpy functions will overide the settings after calling the user-defined standard setup function.\n"
   ]
  },
  {
   "cell_type": "code",
   "execution_count": 1,
   "metadata": {
    "collapsed": false
   },
   "outputs": [
    {
     "ename": "Exception",
     "evalue": "File does not exist : /Users/yuxinlin/L3a/0852p302_ab41/w2_cut.fits",
     "output_type": "error",
     "traceback": [
      "\u001b[1;31m---------------------------------------------------------------------------\u001b[0m",
      "\u001b[1;31mException\u001b[0m                                 Traceback (most recent call last)",
      "\u001b[1;32m<ipython-input-1-94c1b067cc56>\u001b[0m in \u001b[0;36m<module>\u001b[1;34m()\u001b[0m\n\u001b[0;32m     28\u001b[0m \u001b[0mfilepath3\u001b[0m\u001b[1;33m=\u001b[0m \u001b[0mdirpath\u001b[0m\u001b[1;33m+\u001b[0m\u001b[1;34mr'w2_cut.fits'\u001b[0m\u001b[1;33m\u001b[0m\u001b[0m\n\u001b[0;32m     29\u001b[0m \u001b[1;33m\u001b[0m\u001b[0m\n\u001b[1;32m---> 30\u001b[1;33m \u001b[0maplpy\u001b[0m\u001b[1;33m.\u001b[0m\u001b[0mmake_rgb_cube\u001b[0m\u001b[1;33m(\u001b[0m\u001b[1;33m[\u001b[0m\u001b[0mfilepath3\u001b[0m\u001b[1;33m,\u001b[0m\u001b[0mfilepath2\u001b[0m\u001b[1;33m,\u001b[0m\u001b[0mfilepath1\u001b[0m\u001b[1;33m]\u001b[0m\u001b[1;33m,\u001b[0m \u001b[0moutpath\u001b[0m\u001b[1;33m+\u001b[0m\u001b[1;34mr'wise234_RGB.fits'\u001b[0m\u001b[1;33m)\u001b[0m\u001b[1;33m\u001b[0m\u001b[0m\n\u001b[0m\u001b[0;32m     31\u001b[0m \u001b[1;33m\u001b[0m\u001b[0m\n\u001b[0;32m     32\u001b[0m \u001b[0maplpy\u001b[0m\u001b[1;33m.\u001b[0m\u001b[0mmake_rgb_image\u001b[0m\u001b[1;33m(\u001b[0m\u001b[0moutpath\u001b[0m\u001b[1;33m+\u001b[0m\u001b[1;34mr'wise234_RGB.fits'\u001b[0m\u001b[1;33m,\u001b[0m\u001b[0moutpath\u001b[0m\u001b[1;33m+\u001b[0m\u001b[1;34mr'rgb_image_wise234.png'\u001b[0m\u001b[1;33m,\u001b[0m \u001b[0mstretch_r\u001b[0m\u001b[1;33m=\u001b[0m\u001b[1;34m'linear'\u001b[0m\u001b[1;33m,\u001b[0m \u001b[0mvmid_r\u001b[0m\u001b[1;33m=\u001b[0m\u001b[0mNone\u001b[0m\u001b[1;33m,\u001b[0m \u001b[0mpmin_r\u001b[0m\u001b[1;33m=\u001b[0m\u001b[1;36m10\u001b[0m\u001b[1;33m,\u001b[0m \u001b[0mpmax_r\u001b[0m\u001b[1;33m=\u001b[0m\u001b[1;36m98\u001b[0m\u001b[1;33m,\u001b[0m\u001b[0mexponent_r\u001b[0m\u001b[1;33m=\u001b[0m\u001b[1;36m2\u001b[0m\u001b[1;33m,\u001b[0m \u001b[0mvmin_g\u001b[0m\u001b[1;33m=\u001b[0m\u001b[0mNone\u001b[0m\u001b[1;33m,\u001b[0m \u001b[0mvmax_g\u001b[0m\u001b[1;33m=\u001b[0m\u001b[0mNone\u001b[0m\u001b[1;33m,\u001b[0m \u001b[0mpmin_g\u001b[0m\u001b[1;33m=\u001b[0m\u001b[1;36m10\u001b[0m\u001b[1;33m,\u001b[0m \u001b[0mpmax_g\u001b[0m\u001b[1;33m=\u001b[0m\u001b[1;36m98\u001b[0m\u001b[1;33m,\u001b[0m \u001b[0mstretch_g\u001b[0m\u001b[1;33m=\u001b[0m\u001b[1;34m'linear'\u001b[0m\u001b[1;33m,\u001b[0m \u001b[0mvmid_g\u001b[0m\u001b[1;33m=\u001b[0m\u001b[0mNone\u001b[0m\u001b[1;33m,\u001b[0m \u001b[0mexponent_g\u001b[0m\u001b[1;33m=\u001b[0m\u001b[1;36m2\u001b[0m\u001b[1;33m,\u001b[0m \u001b[0mvmin_b\u001b[0m\u001b[1;33m=\u001b[0m\u001b[0mNone\u001b[0m\u001b[1;33m,\u001b[0m \u001b[0mvmax_b\u001b[0m\u001b[1;33m=\u001b[0m\u001b[0mNone\u001b[0m\u001b[1;33m,\u001b[0m \u001b[0mpmin_b\u001b[0m\u001b[1;33m=\u001b[0m\u001b[1;36m10\u001b[0m\u001b[1;33m,\u001b[0m \u001b[0mpmax_b\u001b[0m\u001b[1;33m=\u001b[0m\u001b[1;36m98\u001b[0m\u001b[1;33m,\u001b[0m \u001b[0mstretch_b\u001b[0m\u001b[1;33m=\u001b[0m\u001b[1;34m'linear'\u001b[0m\u001b[1;33m,\u001b[0m \u001b[0mvmid_b\u001b[0m\u001b[1;33m=\u001b[0m\u001b[0mNone\u001b[0m\u001b[1;33m)\u001b[0m\u001b[1;33m\u001b[0m\u001b[0m\n",
      "\u001b[1;32m/usr/local/lib/python2.7/dist-packages/aplpy/rgb.pyc\u001b[0m in \u001b[0;36mmake_rgb_cube\u001b[1;34m(files, output, north, system, equinox)\u001b[0m\n\u001b[0;32m    287\u001b[0m     \u001b[1;32mfor\u001b[0m \u001b[0mf\u001b[0m \u001b[1;32min\u001b[0m \u001b[0mfiles\u001b[0m\u001b[1;33m:\u001b[0m\u001b[1;33m\u001b[0m\u001b[0m\n\u001b[0;32m    288\u001b[0m         \u001b[1;32mif\u001b[0m \u001b[1;32mnot\u001b[0m \u001b[0mos\u001b[0m\u001b[1;33m.\u001b[0m\u001b[0mpath\u001b[0m\u001b[1;33m.\u001b[0m\u001b[0mexists\u001b[0m\u001b[1;33m(\u001b[0m\u001b[0mf\u001b[0m\u001b[1;33m)\u001b[0m\u001b[1;33m:\u001b[0m\u001b[1;33m\u001b[0m\u001b[0m\n\u001b[1;32m--> 289\u001b[1;33m             \u001b[1;32mraise\u001b[0m \u001b[0mException\u001b[0m\u001b[1;33m(\u001b[0m\u001b[1;34m\"File does not exist : \"\u001b[0m \u001b[1;33m+\u001b[0m \u001b[0mf\u001b[0m\u001b[1;33m)\u001b[0m\u001b[1;33m\u001b[0m\u001b[0m\n\u001b[0m\u001b[0;32m    290\u001b[0m \u001b[1;33m\u001b[0m\u001b[0m\n\u001b[0;32m    291\u001b[0m     \u001b[1;31m# Create work directory\u001b[0m\u001b[1;33m\u001b[0m\u001b[1;33m\u001b[0m\u001b[0m\n",
      "\u001b[1;31mException\u001b[0m: File does not exist : /Users/yuxinlin/L3a/0852p302_ab41/w2_cut.fits"
     ]
    }
   ],
   "source": [
    "import aplpy\n",
    "from astropy.io import fits\n",
    "import numpy as np\n",
    "import matplotlib.pyplot as plt\n",
    "\n",
    "def standard_setup(fig):\n",
    "  fig.show_colorscale(cmap='gist_gray')\n",
    "  fig.tick_labels.set_font(size='large')\n",
    "  fig.frame.set_linewidth(1)\n",
    "  fig.frame.set_color('black')\n",
    "  fig.add_colorbar()\n",
    "  fig.colorbar.show()\n",
    "  fig.colorbar.set_location('top')\n",
    "  fig.colorbar.set_font(size='medium', weight='medium', \\\n",
    "                      stretch='normal', family='sans-serif', \\\n",
    "                      style='normal', variant='normal')\n",
    "  fig.list_layers()\n",
    "  fig.axis_labels.hide_y()\n",
    "  fig.tick_labels.hide_y()\n",
    "  fig.axis_labels.hide_x()\n",
    "  fig.tick_labels.hide_x()\n",
    "  \n",
    "\n",
    "dirpath = r'/Users/yuxinlin/L3a/0852p302_ab41/'\n",
    "outpath = r'/Users/yuxinlin/L3a/RGB/'\n",
    "\n",
    "\n",
    "filepath1= dirpath+r'w4_cut.fits'\n",
    "filepath2= dirpath+r'w3_cut.fits'\n",
    "filepath3= dirpath+r'w2_cut.fits'\n",
    "\n",
    "aplpy.make_rgb_cube([filepath3,filepath2,filepath1], outpath+r'wise234_RGB.fits')\n",
    "\n",
    "aplpy.make_rgb_image(outpath+r'wise234_RGB.fits',outpath+r'rgb_image_wise234.png', stretch_r='linear', vmid_r=None, pmin_r=10, pmax_r=98,exponent_r=2, vmin_g=None, vmax_g=None, pmin_g=10, pmax_g=98, stretch_g='linear', vmid_g=None, exponent_g=2, vmin_b=None, vmax_b=None, pmin_b=10, pmax_b=98, stretch_b='linear', vmid_b=None)\n",
    "fits.setval(outpath+r'wise234_RGB.fits','CTYPE3',value='RGB')\n",
    "\n",
    "\n",
    "# Launch APLpy figure of 2D cube\n",
    "img = aplpy.FITSFigure(outpath+r'wise234_RGB.fits',dimensions=[0,1],slices=[2],figsize=(10,9))\n",
    "standard_setup(img)\n",
    "img.recenter(084.78475,+30.09747,width=0.12,height=0.12)\n",
    "img.show_rgb(outpath+r'rgb_image_wise234.png')\n",
    "img.add_scalebar(0.08333,\"1 pc\",color='white', corner='bottom left')\n",
    "img.show_contour(r'/Users/yuxinlin/G178/cut/spire_350/G178_final.850.fits',levels=np.linspace(0.08,0.23,5),colors='white')\n",
    "img.save(outpath+r'rgb_W3_contour.pdf')\n",
    "plt.show()\n",
    "\n"
   ]
  },
  {
   "cell_type": "markdown",
   "metadata": {},
   "source": [
    "# Healpy \n",
    "\n",
    "[aplpyreaddocs](http://aplpy.readthedocs.io/en/stable/#)\n",
    "\n",
    "### - Introduction\n",
    "\n",
    "  To take care of fits files of Healpix pixelization schemes (http://healpix.sourceforge.net/downloads.php), including fitsfile io and transformation to standard coordinate systems. \n",
    "\n",
    "  This is particularly useful for all-sky survey such as Planck data, or SCUBA2 data release 1.\n",
    "\n",
    "### - "
   ]
  },
  {
   "cell_type": "code",
   "execution_count": null,
   "metadata": {
    "collapsed": false
   },
   "outputs": [],
   "source": [
    "import os\n",
    "import healpy as hp\n",
    "from astropy.io import fits\n",
    "import montage_wrapper as mt\n",
    "\n",
    "#read the fitsfile\n",
    "plankCO = hp.read_map('HFI_CompMap_CO-Type3_2048_R1.10.fits')#standard planck survey data from online archive\n",
    "pixNum = 8192\n",
    "\n",
    "#view the fitsfile in Cartesian projection\n",
    "imageData = hp.cartview(plankCO, title='Histogram equalized Ecliptic', \n",
    "     unit='K km/s', min=1,max=500, cmap = 'gist_heat_r', \n",
    "     norm = 'log', cbar= False, return_projected_map = True, \n",
    "     xsize = pixNum)\n",
    "\n",
    "#fits header editing\n",
    "hdu = fits.PrimaryHDU(imageData.data)\n",
    "hdu.header['CTYPE1']  = 'GLON-CAR'                                      \n",
    "hdu.header['CRVAL1']  =         0.0                           \n",
    "hdu.header['CDELT1']  =         -360.0/pixNum                        \n",
    "hdu.header['CRPIX1']  =               pixNum/2.0+0.5                           \n",
    "hdu.header['CTYPE2']  = 'GLAT-CAR'                                      \n",
    "hdu.header['CRVAL2']  =         0.0                          \n",
    "hdu.header['CDELT2']  =           360.0/pixNum                    \n",
    "hdu.header['CRPIX2']  =              pixNum/4.0+0.5\n",
    "hdu.header['BUNIT']   = 'K*km/s'\n",
    "hdu.header['TELESCOP'] = 'Planck'\n",
    "hdu.writeto('PlanckCO_Type3_car.fits', clobber= True)\n",
    "\n",
    "#target fitsheader editing\n",
    "hdrTAN = hdu.header.copy()\n",
    "hdrTAN['CTYPE1']  = 'GLON-TAN'\n",
    "hdrTAN['CTYPE2']  = 'GLAT-TAN'\n",
    "\n",
    "#fitsheader and file output\n",
    "#use mongtage as the reprojection engine, one could also implement other reprojection packages\n",
    "if os.path.isfile('TAN.hdr'):\n",
    "    os.remove('TAN.hdr')\n",
    "\n",
    "hdrTAN.totextfile('TAN.hdr')\n",
    "\n",
    "if os.path.isfile('PlanckCO_Type3_tan.fits'):\n",
    "    os.remove('PlanckCO_Type3_tan.fits')\n",
    "\n",
    "mt.reproject('PlanckCO_Type3_car.fits', \n",
    "    'PlanckCO_Type3_tan.fits', \n",
    "    header = 'TAN.hdr')"
   ]
  },
  {
   "cell_type": "code",
   "execution_count": null,
   "metadata": {
    "collapsed": true
   },
   "outputs": [],
   "source": []
  },
  {
   "cell_type": "code",
   "execution_count": null,
   "metadata": {
    "collapsed": true
   },
   "outputs": [],
   "source": []
  }
 ],
 "metadata": {
  "kernelspec": {
   "display_name": "Python 2",
   "language": "python",
   "name": "python2"
  },
  "language_info": {
   "codemirror_mode": {
    "name": "ipython",
    "version": 2
   },
   "file_extension": ".py",
   "mimetype": "text/x-python",
   "name": "python",
   "nbconvert_exporter": "python",
   "pygments_lexer": "ipython2",
   "version": "2.7.6"
  }
 },
 "nbformat": 4,
 "nbformat_minor": 0
}
