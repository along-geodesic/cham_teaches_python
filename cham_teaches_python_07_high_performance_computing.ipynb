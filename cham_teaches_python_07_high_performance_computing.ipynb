{
 "cells": [
  {
   "cell_type": "markdown",
   "metadata": {},
   "source": [
    "<img src=\"https://www.python.org/static/img/python-logo.png\">\n",
    "\n",
    "# Welcome to my lessons\n",
    "\n",
    "---\n",
    "\n",
    "**Bo Zhang** (NAOC, <mailto:bozhang@nao.cas.cn>) will have a few lessons on python.\n",
    "\n",
    "- These are **very useful knowledge, skills and code styles** when you use `python` to process astronomical data.\n",
    "- All materials can be found on [**my github page**](https://github.com/hypergravity/cham_teaches_python).\n",
    "- **jupyter notebook** (formerly named **ipython notebook**) is recommeded to use\n",
    "\n",
    "---\n",
    "These lectures are organized as below:\n",
    "1. install python\n",
    "2. basic syntax\n",
    "3. numerical computing\n",
    "4. plotting\n",
    "5. astronomical data processing\n",
    "6. high performance computing\n",
    "7. version control\n"
   ]
  },
  {
   "cell_type": "markdown",
   "metadata": {
    "collapsed": true
   },
   "source": [
    "# flowchart\n",
    "0. test your code **BEFORE** you do **ANY** optimization!\n",
    "1. find the bottleneck of your code (ps: learn to use profiler to find the bottleneck)\n",
    "2. use tricks, experience to optimize code\n",
    "3. use as many computing resources as possible\n",
    "    1. parallel computing in multi-CPU/core computer (`multiprocessing`, ...)\n",
    "                \n",
    "    2. run code on multi-node computer cluster (`PBS`, ...)"
   ]
  },
  {
   "cell_type": "markdown",
   "metadata": {},
   "source": [
    "# some simple principles for optimization\n",
    "    1. memory vs. speed\n",
    "    2. vectorization\n",
    "    3. type check\n",
    "    4. parallel    "
   ]
  },
  {
   "cell_type": "markdown",
   "metadata": {},
   "source": [
    "# recommended packages\n",
    "    1. numexpr\n",
    "    2. Cython\n",
    "    - parallel\n",
    "        1. multiprocessing (standard library)\n",
    "        2. ipcluster/ipyparallel (support PBS)\n"
   ]
  },
  {
   "cell_type": "markdown",
   "metadata": {
    "collapsed": true
   },
   "source": [
    "# further reading\n",
    "1. Parallel Programming with Python\n",
    "2. Python High performance Programming\n",
    "3. Learning Cython Programming\n"
   ]
  },
  {
   "cell_type": "code",
   "execution_count": null,
   "metadata": {
    "collapsed": true
   },
   "outputs": [],
   "source": []
  },
  {
   "cell_type": "code",
   "execution_count": null,
   "metadata": {
    "collapsed": true
   },
   "outputs": [],
   "source": []
  }
 ],
 "metadata": {
  "kernelspec": {
   "display_name": "Python 2",
   "language": "python",
   "name": "python2"
  },
  "language_info": {
   "codemirror_mode": {
    "name": "ipython",
    "version": 2
   },
   "file_extension": ".py",
   "mimetype": "text/x-python",
   "name": "python",
   "nbconvert_exporter": "python",
   "pygments_lexer": "ipython2",
   "version": "2.7.6"
  }
 },
 "nbformat": 4,
 "nbformat_minor": 0
}
