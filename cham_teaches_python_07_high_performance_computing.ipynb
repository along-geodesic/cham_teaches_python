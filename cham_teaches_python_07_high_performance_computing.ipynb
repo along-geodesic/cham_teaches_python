{
 "cells": [
  {
   "cell_type": "markdown",
   "metadata": {},
   "source": [
    "<img src=\"https://www.python.org/static/img/python-logo.png\">\n",
    "\n",
    "# Welcome to my lessons\n",
    "\n",
    "---\n",
    "\n",
    "**Bo Zhang** (NAOC, <mailto:bozhang@nao.cas.cn>) will have a few lessons on python.\n",
    "\n",
    "- These are **very useful knowledge, skills and code styles** when you use `python` to process astronomical data.\n",
    "- All materials can be found on [**my github page**](https://github.com/hypergravity/cham_teaches_python).\n",
    "- **jupyter notebook** (formerly named **ipython notebook**) is recommeded to use\n",
    "\n",
    "---\n",
    "These lectures are organized as below:\n",
    "1. install python\n",
    "2. basic syntax\n",
    "3. numerical computing\n",
    "4. scientific computing\n",
    "5. plotting\n",
    "6. astronomical data processing\n",
    "7. high performance computing\n",
    "8. version control\n"
   ]
  },
  {
   "cell_type": "markdown",
   "metadata": {
    "collapsed": true
   },
   "source": [
    "# flowchart\n",
    "0. test your code **BEFORE** you do **ANY** optimization!\n",
    "1. find the bottleneck of your code (ps: learn to use profiler to find the bottleneck)\n",
    "2. use tricks, experience to optimize code\n",
    "3. use as many computing resources as possible\n",
    "    1. parallel computing in multi-CPU/core computer (`multiprocessing`, ...)\n",
    "                \n",
    "    2. run code on multi-node computer cluster (`PBS`, ...)"
   ]
  },
  {
   "cell_type": "markdown",
   "metadata": {},
   "source": [
    "# some simple principles for optimization\n",
    "    1. memory vs. speed\n",
    "    2. vectorization\n",
    "    3. type check\n",
    "    4. parallel    "
   ]
  },
  {
   "cell_type": "markdown",
   "metadata": {},
   "source": [
    "# recommended packages\n",
    "    1. numexpr\n",
    "    2. Cython\n",
    "    - parallel\n",
    "        1. multiprocessing (standard library)\n",
    "        2. ipcluster/ipyparallel (support PBS)\n"
   ]
  },
  {
   "cell_type": "markdown",
   "metadata": {
    "collapsed": true
   },
   "source": [
    "# further reading\n",
    "1. Parallel Programming with Python\n",
    "2. Python High performance Programming\n",
    "3. Learning Cython Programming\n"
   ]
  },
  {
   "cell_type": "code",
   "execution_count": null,
   "metadata": {
    "collapsed": true
   },
   "outputs": [],
   "source": []
  },
  {
   "cell_type": "markdown",
   "metadata": {},
   "source": [
    "# Parallel computing\n",
    "- **threads**: shared memory, involves locks\n",
    "- **processes**: isolated memory for each process, inter-process communication is less efficient\n",
    "    - the easiest way to do parallel computing: **embarassingly parallel** (no inter-process communication), which is the case we met most often"
   ]
  },
  {
   "cell_type": "markdown",
   "metadata": {},
   "source": [
    "# Monte Carlo approximation for $\\pi$"
   ]
  },
  {
   "cell_type": "code",
   "execution_count": 1,
   "metadata": {
    "collapsed": false
   },
   "outputs": [
    {
     "name": "stdout",
     "output_type": "stream",
     "text": [
      "Populating the interactive namespace from numpy and matplotlib\n"
     ]
    }
   ],
   "source": [
    "%pylab inline"
   ]
  },
  {
   "cell_type": "code",
   "execution_count": 2,
   "metadata": {
    "collapsed": false,
    "scrolled": false
   },
   "outputs": [
    {
     "data": {
      "image/png": "[encoded data removed]",
      "text/plain": [
       "<matplotlib.figure.Figure at 0x7fad29c85050>"
      ]
     },
     "metadata": {},
     "output_type": "display_data"
    }
   ],
   "source": [
    "# with plt.xkcd():\n",
    "fig = plt.figure(figsize=(10, 10))\n",
    "ax = plt.axes(frameon=False)\n",
    "plt.xlim(-1.5,1.5)\n",
    "plt.ylim(-1.5,1.5)\n",
    "circle = plt.Circle((0.,0.), 1., color='w', fill=False)\n",
    "rect = plt.Rectangle((-1,-1), 2, 2, color='gray')\n",
    "plt.gca().add_artist(rect)\n",
    "plt.gca().add_artist(circle)\n",
    "plt.arrow(-2., 0., 3.3, 0., head_width=0.1, head_length=0.2)\n",
    "plt.arrow(0., -2., 0., 3.3, head_width=0.1, head_length=0.2)\n",
    "randx = np.random.uniform(-1, 1, (100,))\n",
    "randy = np.random.uniform(-1, 1, (100,))\n",
    "plot(randx, randy, 'kx')\n",
    "plt.gca().axis('off')\n",
    "\n",
    "plt.text(-1.3, -0.1, '(-1, 0)', fontsize=20)\n",
    "plt.text( 1.1, -0.1, '(+1, 0)', fontsize=20)\n",
    "plt.text( 0.1,  1.1, '(0, +1)', fontsize=20)\n",
    "plt.text( 0.1, -1.1, '(0, -1)', fontsize=20);"
   ]
  },
  {
   "cell_type": "code",
   "execution_count": 3,
   "metadata": {
    "collapsed": false
   },
   "outputs": [
    {
     "name": "stdout",
     "output_type": "stream",
     "text": [
      "3.13624\n",
      "CPU times: user 103 ms, sys: 2.29 ms, total: 105 ms\n",
      "Wall time: 104 ms\n"
     ]
    }
   ],
   "source": [
    "%%time\n",
    "\n",
    "import random\n",
    "samples = 1E5\n",
    "hits = 0\n",
    "\n",
    "for i in range(int(samples)):\n",
    "    x = random.uniform(-1.0, 1.0)\n",
    "    y = random.uniform(-1.0, 1.0)\n",
    "    \n",
    "    if x**2 + y**2 <= 1.0:\n",
    "        hits += 1\n",
    "    \n",
    "pi = 4.0*hits/samples\n",
    "print pi\n"
   ]
  },
  {
   "cell_type": "markdown",
   "metadata": {},
   "source": [
    "## DO NOTICE , this is extremely SLOW!"
   ]
  },
  {
   "cell_type": "code",
   "execution_count": 4,
   "metadata": {
    "collapsed": false
   },
   "outputs": [
    {
     "name": "stdout",
     "output_type": "stream",
     "text": [
      "3.141\n",
      "CPU times: user 14.9 s, sys: 6.75 s, total: 21.7 s\n",
      "Wall time: 14.4 s\n"
     ]
    }
   ],
   "source": [
    "%%time\n",
    "\n",
    "import multiprocessing\n",
    "\n",
    "def sample():\n",
    "    x = random.uniform(-1.0, 1.0)\n",
    "    y = random.uniform(-1.0, 1.0)\n",
    "    \n",
    "    if x**2 + y**2 <= 1.0:\n",
    "        return 1\n",
    "    else:\n",
    "        return 0\n",
    "\n",
    "pool = multiprocessing.Pool()\n",
    "results_async = [pool.apply_async(sample) for i in range(int(samples))]\n",
    "hits = sum(r.get() for r in results_async)\n",
    "pool.close()\n",
    "\n",
    "pi = 4.0*hits/samples\n",
    "print pi \n"
   ]
  },
  {
   "cell_type": "code",
   "execution_count": 5,
   "metadata": {
    "collapsed": false
   },
   "outputs": [
    {
     "name": "stdout",
     "output_type": "stream",
     "text": [
      "3.14848\n",
      "CPU times: user 53.4 ms, sys: 283 ms, total: 336 ms\n",
      "Wall time: 326 ms\n"
     ]
    }
   ],
   "source": [
    "%%time\n",
    "\n",
    "import multiprocessing\n",
    "\n",
    "def sample_multiple(samples_partial):\n",
    "    return sum(sample() for i in range(samples_partial))\n",
    "\n",
    "ntasks = 10\n",
    "chunk_size = int(samples/ntasks)\n",
    "\n",
    "pool = multiprocessing.Pool()\n",
    "results_async = [pool.apply_async(sample_multiple, [chunk_size]) for i in range(ntasks)]\n",
    "hits = sum(r.get() for r in results_async)\n",
    "pool.close()\n",
    "\n",
    "pi = 4.0*hits/samples\n",
    "print pi "
   ]
  },
  {
   "cell_type": "code",
   "execution_count": null,
   "metadata": {
    "collapsed": true
   },
   "outputs": [],
   "source": []
  },
  {
   "cell_type": "markdown",
   "metadata": {},
   "source": [
    "# IPython parallel\n",
    "IPython's power is not limited to its advanced shell. Its parallel package includes a framework to setup and run calculations on single and multi-core machines, as well as on multiple nodes connected to a network. IPython is great because it gives an interactive twist to parallel computing and provides a common interface to different\n",
    "communication protocols.\n",
    "\n",
    "- how to start engines?\n",
    "    - type `$ ipcluster start -n 12` in terminal to start a 12-engine\n",
    "- how to use engines?\n",
    "    - direct view (specify tasks for engines!)\n",
    "    - task-base view (load balanced)"
   ]
  },
  {
   "cell_type": "markdown",
   "metadata": {},
   "source": [
    "## Direct interface"
   ]
  },
  {
   "cell_type": "code",
   "execution_count": 6,
   "metadata": {
    "collapsed": false
   },
   "outputs": [
    {
     "name": "stderr",
     "output_type": "stream",
     "text": [
      "/usr/local/lib/python2.7/dist-packages/IPython/parallel.py:13: ShimWarning: The `IPython.parallel` package has been deprecated. You should import from ipyparallel instead.\n",
      "  \"You should import from ipyparallel instead.\", ShimWarning)\n"
     ]
    }
   ],
   "source": [
    "# to creat an instance of Client, import Client from IPython.parallel\n",
    "from IPython.parallel import Client\n",
    "# from ipyparallel import Client"
   ]
  },
  {
   "cell_type": "code",
   "execution_count": 7,
   "metadata": {
    "collapsed": false
   },
   "outputs": [
    {
     "name": "stderr",
     "output_type": "stream",
     "text": [
      "bash: line 1: ipcluster: command not found\n"
     ]
    }
   ],
   "source": [
    "%%bash \n",
    "ipcluster start -n 12"
   ]
  },
  {
   "cell_type": "code",
   "execution_count": 8,
   "metadata": {
    "collapsed": false
   },
   "outputs": [],
   "source": [
    "rc = Client() # creat an Client instance"
   ]
  },
  {
   "cell_type": "code",
   "execution_count": 9,
   "metadata": {
    "collapsed": false
   },
   "outputs": [
    {
     "data": {
      "text/plain": [
       "[0, 1, 2, 3, 4, 5, 6, 7, 8, 9, 10, 11]"
      ]
     },
     "execution_count": 9,
     "metadata": {},
     "output_type": "execute_result"
    }
   ],
   "source": [
    "rc.ids # show IDs of each engine"
   ]
  },
  {
   "cell_type": "code",
   "execution_count": 10,
   "metadata": {
    "collapsed": false
   },
   "outputs": [
    {
     "data": {
      "text/plain": [
       "<DirectView 0>"
      ]
     },
     "execution_count": 10,
     "metadata": {},
     "output_type": "execute_result"
    }
   ],
   "source": [
    "dview = rc[0] # select the first engine\n",
    "dview"
   ]
  },
  {
   "cell_type": "code",
   "execution_count": 11,
   "metadata": {
    "collapsed": false
   },
   "outputs": [
    {
     "data": {
      "text/plain": [
       "<DirectView [0, 2, 4, 6,...]>"
      ]
     },
     "execution_count": 11,
     "metadata": {},
     "output_type": "execute_result"
    }
   ],
   "source": [
    "dview = rc[::2] # select every other engine\n",
    "dview"
   ]
  },
  {
   "cell_type": "code",
   "execution_count": 12,
   "metadata": {
    "collapsed": false
   },
   "outputs": [
    {
     "data": {
      "text/plain": [
       "<DirectView [0, 1, 2, 3,...]>"
      ]
     },
     "execution_count": 12,
     "metadata": {},
     "output_type": "execute_result"
    }
   ],
   "source": [
    "dview = rc[:] # select all engines\n",
    "dview"
   ]
  },
  {
   "cell_type": "code",
   "execution_count": 13,
   "metadata": {
    "collapsed": false
   },
   "outputs": [
    {
     "data": {
      "text/plain": [
       "<AsyncResult: execute>"
      ]
     },
     "execution_count": 13,
     "metadata": {},
     "output_type": "execute_result"
    }
   ],
   "source": [
    "dview.execute('a = 1') "
   ]
  },
  {
   "cell_type": "code",
   "execution_count": 14,
   "metadata": {
    "collapsed": false
   },
   "outputs": [
    {
     "data": {
      "text/plain": [
       "[1, 1, 1, 1, 1, 1, 1, 1, 1, 1, 1, 1]"
      ]
     },
     "execution_count": 14,
     "metadata": {},
     "output_type": "execute_result"
    }
   ],
   "source": [
    "dview.pull('a').get() # equivalent to dview['a']"
   ]
  },
  {
   "cell_type": "code",
   "execution_count": 15,
   "metadata": {
    "collapsed": false
   },
   "outputs": [
    {
     "data": {
      "text/plain": [
       "<AsyncResult: _push>"
      ]
     },
     "execution_count": 15,
     "metadata": {},
     "output_type": "execute_result"
    }
   ],
   "source": [
    "dview.push({'a':2}) # equivbalent to dview['a'] = 2"
   ]
  },
  {
   "cell_type": "code",
   "execution_count": 16,
   "metadata": {
    "collapsed": false
   },
   "outputs": [
    {
     "data": {
      "text/plain": [
       "[2, 2, 2, 2, 2, 2, 2, 2, 2, 2, 2, 2]"
      ]
     },
     "execution_count": 16,
     "metadata": {},
     "output_type": "execute_result"
    }
   ],
   "source": [
    "dview['a']"
   ]
  },
  {
   "cell_type": "code",
   "execution_count": 17,
   "metadata": {
    "collapsed": true
   },
   "outputs": [],
   "source": [
    "res = dview.execute('a = T_T') # got error"
   ]
  },
  {
   "cell_type": "code",
   "execution_count": 18,
   "metadata": {
    "collapsed": false,
    "scrolled": false
   },
   "outputs": [
    {
     "ename": "CompositeError",
     "evalue": "one or more exceptions from call to method: execute\n[0:execute]: NameError: name 'T_T' is not defined\n[1:execute]: NameError: name 'T_T' is not defined\n[2:execute]: NameError: name 'T_T' is not defined\n[3:execute]: NameError: name 'T_T' is not defined\n.... 8 more exceptions ...",
     "output_type": "error",
     "traceback": [
      "[0:execute]: ",
      "\u001b[1;31m---------------------------------------------------------------------------\u001b[0m\u001b[1;31mNameError\u001b[0m                                 Traceback (most recent call last)\u001b[1;32m<ipython-input-1-5dd6c0744106>\u001b[0m in \u001b[0;36m<module>\u001b[1;34m()\u001b[0m",
      "\u001b[1;32m----> 1\u001b[1;33m \u001b[0ma\u001b[0m \u001b[1;33m=\u001b[0m \u001b[0mT_T\u001b[0m\u001b[1;33m\u001b[0m\u001b[0m",
      "\u001b[0m\u001b[1;31mNameError\u001b[0m: name 'T_T' is not defined",
      "",
      "[1:execute]: ",
      "\u001b[1;31m---------------------------------------------------------------------------\u001b[0m\u001b[1;31mNameError\u001b[0m                                 Traceback (most recent call last)\u001b[1;32m<ipython-input-1-5dd6c0744106>\u001b[0m in \u001b[0;36m<module>\u001b[1;34m()\u001b[0m",
      "\u001b[1;32m----> 1\u001b[1;33m \u001b[0ma\u001b[0m \u001b[1;33m=\u001b[0m \u001b[0mT_T\u001b[0m\u001b[1;33m\u001b[0m\u001b[0m",
      "\u001b[0m\u001b[1;31mNameError\u001b[0m: name 'T_T' is not defined",
      "",
      "[2:execute]: ",
      "\u001b[1;31m---------------------------------------------------------------------------\u001b[0m\u001b[1;31mNameError\u001b[0m                                 Traceback (most recent call last)\u001b[1;32m<ipython-input-1-5dd6c0744106>\u001b[0m in \u001b[0;36m<module>\u001b[1;34m()\u001b[0m",
      "\u001b[1;32m----> 1\u001b[1;33m \u001b[0ma\u001b[0m \u001b[1;33m=\u001b[0m \u001b[0mT_T\u001b[0m\u001b[1;33m\u001b[0m\u001b[0m",
      "\u001b[0m\u001b[1;31mNameError\u001b[0m: name 'T_T' is not defined",
      "",
      "[3:execute]: ",
      "\u001b[1;31m---------------------------------------------------------------------------\u001b[0m\u001b[1;31mNameError\u001b[0m                                 Traceback (most recent call last)\u001b[1;32m<ipython-input-1-5dd6c0744106>\u001b[0m in \u001b[0;36m<module>\u001b[1;34m()\u001b[0m",
      "\u001b[1;32m----> 1\u001b[1;33m \u001b[0ma\u001b[0m \u001b[1;33m=\u001b[0m \u001b[0mT_T\u001b[0m\u001b[1;33m\u001b[0m\u001b[0m",
      "\u001b[0m\u001b[1;31mNameError\u001b[0m: name 'T_T' is not defined",
      "",
      "... 8 more exceptions ..."
     ]
    }
   ],
   "source": [
    "res.get()"
   ]
  },
  {
   "cell_type": "code",
   "execution_count": 19,
   "metadata": {
    "collapsed": true
   },
   "outputs": [],
   "source": [
    "res = dview.execute('b = a+1')"
   ]
  },
  {
   "cell_type": "code",
   "execution_count": 20,
   "metadata": {
    "collapsed": false
   },
   "outputs": [
    {
     "data": {
      "text/plain": [
       "[3, 3, 3, 3, 3, 3, 3, 3, 3, 3, 3, 3]"
      ]
     },
     "execution_count": 20,
     "metadata": {},
     "output_type": "execute_result"
    }
   ],
   "source": [
    "dview['b']"
   ]
  },
  {
   "cell_type": "code",
   "execution_count": 21,
   "metadata": {
    "collapsed": true
   },
   "outputs": [],
   "source": [
    "res = dview.execute('b = b+1')"
   ]
  },
  {
   "cell_type": "code",
   "execution_count": 22,
   "metadata": {
    "collapsed": false
   },
   "outputs": [
    {
     "data": {
      "text/plain": [
       "[4, 4, 4, 4, 4, 4, 4, 4, 4, 4, 4, 4]"
      ]
     },
     "execution_count": 22,
     "metadata": {},
     "output_type": "execute_result"
    }
   ],
   "source": [
    "dview['b']"
   ]
  },
  {
   "cell_type": "markdown",
   "metadata": {},
   "source": [
    "Engines should be treated as independent IPython sessions, and imports and custom-defined functions must be synchronized over the network. To import some libraries, both locally and in the engines, you can use the **DirectView.sync_imports** context manager:"
   ]
  },
  {
   "cell_type": "code",
   "execution_count": 23,
   "metadata": {
    "collapsed": false
   },
   "outputs": [
    {
     "name": "stdout",
     "output_type": "stream",
     "text": [
      "importing numpy on engine(s)\n"
     ]
    }
   ],
   "source": [
    "with dview.sync_imports():\n",
    "    import numpy\n",
    "    # the syntax import _ as _ is not supported"
   ]
  },
  {
   "cell_type": "markdown",
   "metadata": {},
   "source": [
    "## DirectView.map_async"
   ]
  },
  {
   "cell_type": "code",
   "execution_count": 24,
   "metadata": {
    "collapsed": true
   },
   "outputs": [],
   "source": [
    "a = range(100)"
   ]
  },
  {
   "cell_type": "code",
   "execution_count": 25,
   "metadata": {
    "collapsed": true
   },
   "outputs": [],
   "source": [
    "def square(x):\n",
    "    return x*x"
   ]
  },
  {
   "cell_type": "code",
   "execution_count": 26,
   "metadata": {
    "collapsed": false
   },
   "outputs": [
    {
     "name": "stdout",
     "output_type": "stream",
     "text": [
      "[0, 1, 4, 9, 16, 25, 36, 49, 64, 81, 100, 121, 144, 169, 196, 225, 256, 289, 324, 361, 400, 441, 484, 529, 576, 625, 676, 729, 784, 841, 900, 961, 1024, 1089, 1156, 1225, 1296, 1369, 1444, 1521, 1600, 1681, 1764, 1849, 1936, 2025, 2116, 2209, 2304, 2401, 2500, 2601, 2704, 2809, 2916, 3025, 3136, 3249, 3364, 3481, 3600, 3721, 3844, 3969, 4096, 4225, 4356, 4489, 4624, 4761, 4900, 5041, 5184, 5329, 5476, 5625, 5776, 5929, 6084, 6241, 6400, 6561, 6724, 6889, 7056, 7225, 7396, 7569, 7744, 7921, 8100, 8281, 8464, 8649, 8836, 9025, 9216, 9409, 9604, 9801]\n"
     ]
    }
   ],
   "source": [
    "results_async = dview.map_async(square, a)\n",
    "print  results_async.get()"
   ]
  },
  {
   "cell_type": "markdown",
   "metadata": {},
   "source": [
    "# parallel decorator"
   ]
  },
  {
   "cell_type": "code",
   "execution_count": 27,
   "metadata": {
    "collapsed": true
   },
   "outputs": [],
   "source": [
    "@dview.parallel(block=False)\n",
    "def square(x):\n",
    "    return x * x"
   ]
  },
  {
   "cell_type": "code",
   "execution_count": 28,
   "metadata": {
    "collapsed": false
   },
   "outputs": [
    {
     "name": "stdout",
     "output_type": "stream",
     "text": [
      "[0, 1, 4, 9, 16, 25, 36, 49, 64, 81, 100, 121, 144, 169, 196, 225, 256, 289, 324, 361, 400, 441, 484, 529, 576, 625, 676, 729, 784, 841, 900, 961, 1024, 1089, 1156, 1225, 1296, 1369, 1444, 1521, 1600, 1681, 1764, 1849, 1936, 2025, 2116, 2209, 2304, 2401, 2500, 2601, 2704, 2809, 2916, 3025, 3136, 3249, 3364, 3481, 3600, 3721, 3844, 3969, 4096, 4225, 4356, 4489, 4624, 4761, 4900, 5041, 5184, 5329, 5476, 5625, 5776, 5929, 6084, 6241, 6400, 6561, 6724, 6889, 7056, 7225, 7396, 7569, 7744, 7921, 8100, 8281, 8464, 8649, 8836, 9025, 9216, 9409, 9604, 9801]\n"
     ]
    }
   ],
   "source": [
    "print square.map(range(100)).get()"
   ]
  },
  {
   "cell_type": "markdown",
   "metadata": {},
   "source": [
    "## DirectView.apply\n",
    "- executed on **every** engine"
   ]
  },
  {
   "cell_type": "code",
   "execution_count": 29,
   "metadata": {
    "collapsed": true
   },
   "outputs": [],
   "source": [
    "def square(x):\n",
    "    return x*x"
   ]
  },
  {
   "cell_type": "code",
   "execution_count": 30,
   "metadata": {
    "collapsed": true
   },
   "outputs": [],
   "source": [
    "result_async = dview.apply(square, 2)"
   ]
  },
  {
   "cell_type": "code",
   "execution_count": 31,
   "metadata": {
    "collapsed": false
   },
   "outputs": [
    {
     "data": {
      "text/plain": [
       "[4, 4, 4, 4, 4, 4, 4, 4, 4, 4, 4, 4]"
      ]
     },
     "execution_count": 31,
     "metadata": {},
     "output_type": "execute_result"
    }
   ],
   "source": [
    "result_async.get()"
   ]
  },
  {
   "cell_type": "markdown",
   "metadata": {},
   "source": [
    "# scatter & gather"
   ]
  },
  {
   "cell_type": "code",
   "execution_count": 32,
   "metadata": {
    "collapsed": false
   },
   "outputs": [
    {
     "data": {
      "text/plain": [
       "<AsyncResult: scatter>"
      ]
     },
     "execution_count": 32,
     "metadata": {},
     "output_type": "execute_result"
    }
   ],
   "source": [
    "dview.scatter('a', [0, 1, 2, 3])"
   ]
  },
  {
   "cell_type": "code",
   "execution_count": 33,
   "metadata": {
    "collapsed": false
   },
   "outputs": [
    {
     "name": "stdout",
     "output_type": "stream",
     "text": [
      "[[0], [1], [2], [3], [], [], [], [], [], [], [], []]\n"
     ]
    }
   ],
   "source": [
    "print dview['a']"
   ]
  },
  {
   "cell_type": "code",
   "execution_count": 34,
   "metadata": {
    "collapsed": false
   },
   "outputs": [
    {
     "data": {
      "text/plain": [
       "<AsyncResult: finished>"
      ]
     },
     "execution_count": 34,
     "metadata": {},
     "output_type": "execute_result"
    }
   ],
   "source": [
    "dview.scatter('a', np.arange(16))"
   ]
  },
  {
   "cell_type": "code",
   "execution_count": 35,
   "metadata": {
    "collapsed": false
   },
   "outputs": [
    {
     "name": "stdout",
     "output_type": "stream",
     "text": [
      "[array([0, 1]), array([2, 3]), array([4, 5]), array([6, 7]), array([8]), array([9]), array([10]), array([11]), array([12]), array([13]), array([14]), array([15])]\n"
     ]
    }
   ],
   "source": [
    "print dview['a']"
   ]
  },
  {
   "cell_type": "code",
   "execution_count": 36,
   "metadata": {
    "collapsed": false
   },
   "outputs": [
    {
     "data": {
      "text/plain": [
       "<AsyncResult: execute>"
      ]
     },
     "execution_count": 36,
     "metadata": {},
     "output_type": "execute_result"
    }
   ],
   "source": [
    "dview.execute('a = a**2')"
   ]
  },
  {
   "cell_type": "code",
   "execution_count": 37,
   "metadata": {
    "collapsed": false
   },
   "outputs": [
    {
     "name": "stdout",
     "output_type": "stream",
     "text": [
      "[array([0, 1]), array([4, 9]), array([16, 25]), array([36, 49]), array([64]), array([81]), array([100]), array([121]), array([144]), array([169]), array([196]), array([225])]\n"
     ]
    }
   ],
   "source": [
    "print dview['a']"
   ]
  },
  {
   "cell_type": "code",
   "execution_count": 38,
   "metadata": {
    "collapsed": false
   },
   "outputs": [
    {
     "data": {
      "text/plain": [
       "array([  0,   1,   4,   9,  16,  25,  36,  49,  64,  81, 100, 121, 144,\n",
       "       169, 196, 225])"
      ]
     },
     "execution_count": 38,
     "metadata": {},
     "output_type": "execute_result"
    }
   ],
   "source": [
    "dview.gather('a').get()"
   ]
  },
  {
   "cell_type": "markdown",
   "metadata": {},
   "source": [
    "# task-based interface (load balanced)"
   ]
  },
  {
   "cell_type": "code",
   "execution_count": 39,
   "metadata": {
    "collapsed": true
   },
   "outputs": [],
   "source": [
    "from IPython.parallel import Client"
   ]
  },
  {
   "cell_type": "code",
   "execution_count": 40,
   "metadata": {
    "collapsed": true
   },
   "outputs": [],
   "source": [
    "rc = Client()"
   ]
  },
  {
   "cell_type": "code",
   "execution_count": 41,
   "metadata": {
    "collapsed": true
   },
   "outputs": [],
   "source": [
    "tview = rc.load_balanced_view()"
   ]
  },
  {
   "cell_type": "code",
   "execution_count": 42,
   "metadata": {
    "collapsed": true
   },
   "outputs": [],
   "source": [
    "def square(x):\n",
    "    return x * x"
   ]
  },
  {
   "cell_type": "code",
   "execution_count": 43,
   "metadata": {
    "collapsed": false
   },
   "outputs": [
    {
     "data": {
      "text/plain": [
       "<AsyncResult: square>"
      ]
     },
     "execution_count": 43,
     "metadata": {},
     "output_type": "execute_result"
    }
   ],
   "source": [
    "dview.apply(square, 2) # executes in every engine!"
   ]
  },
  {
   "cell_type": "code",
   "execution_count": 44,
   "metadata": {
    "collapsed": false
   },
   "outputs": [
    {
     "data": {
      "text/plain": [
       "4"
      ]
     },
     "execution_count": 44,
     "metadata": {},
     "output_type": "execute_result"
    }
   ],
   "source": [
    "tview.apply(square, 2).get() # executed in ONLY 1 engine"
   ]
  },
  {
   "cell_type": "code",
   "execution_count": 45,
   "metadata": {
    "collapsed": false
   },
   "outputs": [
    {
     "data": {
      "text/plain": [
       "array([ 0,  1,  4,  9, 16, 25, 36, 49, 64, 81])"
      ]
     },
     "execution_count": 45,
     "metadata": {},
     "output_type": "execute_result"
    }
   ],
   "source": [
    "tview.apply(square, np.arange(10)).get()"
   ]
  },
  {
   "cell_type": "code",
   "execution_count": null,
   "metadata": {
    "collapsed": true
   },
   "outputs": [],
   "source": []
  },
  {
   "cell_type": "markdown",
   "metadata": {},
   "source": [
    "# Run the Monte-Carlo for$\\pi$ on IPython cluster"
   ]
  },
  {
   "cell_type": "markdown",
   "metadata": {},
   "source": [
    "### 1. using @dview.parallel() decorator"
   ]
  },
  {
   "cell_type": "code",
   "execution_count": 46,
   "metadata": {
    "collapsed": false
   },
   "outputs": [],
   "source": [
    "def sample():    \n",
    "    x = numpy.random.uniform(-1.0, 1.0)\n",
    "    y = numpy.random.uniform(-1.0, 1.0)\n",
    "    \n",
    "    if x**2 + y**2 <= 1.0:\n",
    "        return 1\n",
    "    else:\n",
    "        return 0\n",
    "\n",
    "@dview.parallel()\n",
    "def sample_multiple(samples_partial):\n",
    "    return sum(sample() for i in range(samples_partial))"
   ]
  },
  {
   "cell_type": "code",
   "execution_count": 47,
   "metadata": {
    "collapsed": false
   },
   "outputs": [
    {
     "name": "stdout",
     "output_type": "stream",
     "text": [
      "CPU times: user 10.8 ms, sys: 1.37 ms, total: 12.2 ms\n",
      "Wall time: 10.2 ms\n"
     ]
    }
   ],
   "source": [
    "%%time\n",
    "\n",
    "samples = 1E8\n",
    "ntasks = 10\n",
    "chunk_size = int(samples/ntasks)\n",
    "\n",
    "results = sample_multiple.map([chunk_size for i in range(ntasks)]) # ntask determines the # of processes-->10"
   ]
  },
  {
   "cell_type": "code",
   "execution_count": 48,
   "metadata": {
    "collapsed": false
   },
   "outputs": [
    {
     "name": "stdout",
     "output_type": "stream",
     "text": [
      "pi:  3.14161772\n"
     ]
    }
   ],
   "source": [
    "print 'pi: ', sum(results.get())/np.double(samples)*4."
   ]
  },
  {
   "cell_type": "markdown",
   "metadata": {},
   "source": [
    "### 2. using direct/task-based interface"
   ]
  },
  {
   "cell_type": "code",
   "execution_count": 49,
   "metadata": {
    "collapsed": false
   },
   "outputs": [
    {
     "data": {
      "text/plain": [
       "<AsyncResult: _push>"
      ]
     },
     "execution_count": 49,
     "metadata": {},
     "output_type": "execute_result"
    }
   ],
   "source": [
    "def sample():    \n",
    "    x = numpy.random.uniform(-1.0, 1.0)\n",
    "    y = numpy.random.uniform(-1.0, 1.0)\n",
    "    \n",
    "    if x**2 + y**2 <= 1.0:\n",
    "        return 1\n",
    "    else:\n",
    "        return 0\n",
    "\n",
    "def sample_multiple(samples_partial):\n",
    "    return sum(sample() for i in range(samples_partial))\n",
    "\n",
    "dview.push({'sample':sample, 'sample_multiple':sample_multiple})"
   ]
  },
  {
   "cell_type": "markdown",
   "metadata": {},
   "source": [
    "### 2.1 dview.apply - blocking mode\n",
    "executed in **every** engin!"
   ]
  },
  {
   "cell_type": "code",
   "execution_count": 50,
   "metadata": {
    "collapsed": false
   },
   "outputs": [
    {
     "name": "stdout",
     "output_type": "stream",
     "text": [
      "CPU times: user 45.9 ms, sys: 5.84 ms, total: 51.8 ms\n",
      "Wall time: 10.3 s\n"
     ]
    }
   ],
   "source": [
    "%%time\n",
    "\n",
    "samples = int(1E8)\n",
    "ntasks = len(dview)\n",
    "chunk_size = int(samples/ntasks)\n",
    "\n",
    "dview.block = True\n",
    "results = dview.map(sample_multiple, [chunk_size for i in range(ntasks)])\n",
    "# task should be evenly splited on every engine"
   ]
  },
  {
   "cell_type": "code",
   "execution_count": 51,
   "metadata": {
    "collapsed": false
   },
   "outputs": [
    {
     "name": "stdout",
     "output_type": "stream",
     "text": [
      "pi:  3.14169864\n"
     ]
    }
   ],
   "source": [
    "print 'pi: ', sum(results)/np.double(samples)*4."
   ]
  },
  {
   "cell_type": "markdown",
   "metadata": {},
   "source": [
    "### 2.2 tview.map (load balanced)"
   ]
  },
  {
   "cell_type": "code",
   "execution_count": 52,
   "metadata": {
    "collapsed": false
   },
   "outputs": [
    {
     "name": "stdout",
     "output_type": "stream",
     "text": [
      "CPU times: user 51.4 ms, sys: 5.85 ms, total: 57.3 ms\n",
      "Wall time: 10.1 s\n"
     ]
    }
   ],
   "source": [
    "%%time\n",
    "\n",
    "samples = int(1E8)\n",
    "ntasks = len(tview)\n",
    "chunk_size = int(samples/ntasks)\n",
    "\n",
    "tview.block = True\n",
    "results = tview.map(sample_multiple, [chunk_size for i in range(ntasks)])\n",
    "# task should be evenly splited on every engine"
   ]
  },
  {
   "cell_type": "code",
   "execution_count": 53,
   "metadata": {
    "collapsed": false
   },
   "outputs": [
    {
     "name": "stdout",
     "output_type": "stream",
     "text": [
      "pi:  3.14164356\n"
     ]
    }
   ],
   "source": [
    "print 'pi: ', sum(results)/np.double(samples)*4."
   ]
  },
  {
   "cell_type": "markdown",
   "metadata": {},
   "source": [
    "### 2.3 dview.map_async"
   ]
  },
  {
   "cell_type": "code",
   "execution_count": 54,
   "metadata": {
    "collapsed": false
   },
   "outputs": [
    {
     "name": "stdout",
     "output_type": "stream",
     "text": [
      "CPU times: user 8.56 ms, sys: 1.08 ms, total: 9.64 ms\n",
      "Wall time: 8.16 ms\n"
     ]
    }
   ],
   "source": [
    "%%time\n",
    "\n",
    "samples = 1E8\n",
    "ntasks = 10\n",
    "chunk_size = int(samples/ntasks)\n",
    "\n",
    "dview.block = False\n",
    "results_async = dview.map_async(sample_multiple, \n",
    "                                [chunk_size for i in range(ntasks)])"
   ]
  },
  {
   "cell_type": "code",
   "execution_count": 55,
   "metadata": {
    "collapsed": false
   },
   "outputs": [
    {
     "name": "stdout",
     "output_type": "stream",
     "text": [
      "False\n"
     ]
    }
   ],
   "source": [
    "print results_async.ready()"
   ]
  },
  {
   "cell_type": "code",
   "execution_count": 56,
   "metadata": {
    "collapsed": false,
    "scrolled": true
   },
   "outputs": [
    {
     "name": "stdout",
     "output_type": "stream",
     "text": [
      "pi:  3.14140328\n"
     ]
    }
   ],
   "source": [
    "print 'pi: ', sum(results_async.get())/np.double(samples)*4."
   ]
  },
  {
   "cell_type": "code",
   "execution_count": 57,
   "metadata": {
    "collapsed": false
   },
   "outputs": [
    {
     "name": "stdout",
     "output_type": "stream",
     "text": [
      "True\n"
     ]
    }
   ],
   "source": [
    "print results_async.ready()"
   ]
  },
  {
   "cell_type": "markdown",
   "metadata": {},
   "source": [
    "### 2.4 tview.map_async"
   ]
  },
  {
   "cell_type": "code",
   "execution_count": 58,
   "metadata": {
    "collapsed": false
   },
   "outputs": [
    {
     "name": "stdout",
     "output_type": "stream",
     "text": [
      "CPU times: user 11.8 ms, sys: 2.46 ms, total: 14.3 ms\n",
      "Wall time: 11.5 ms\n"
     ]
    }
   ],
   "source": [
    "%%time\n",
    "\n",
    "samples = 1E8\n",
    "ntasks = 10\n",
    "chunk_size = int(samples/ntasks)\n",
    "\n",
    "tview.block = False\n",
    "results_async = tview.map_async(sample_multiple, \n",
    "                                [chunk_size for i in range(ntasks)]) #determines the tasks for each engine\n",
    "\n",
    "# print 'pi: ', sum(results_async.get())/np.double(samples)*4."
   ]
  },
  {
   "cell_type": "code",
   "execution_count": 59,
   "metadata": {
    "collapsed": false
   },
   "outputs": [
    {
     "name": "stdout",
     "output_type": "stream",
     "text": [
      "False\n"
     ]
    }
   ],
   "source": [
    "print results_async.ready()"
   ]
  },
  {
   "cell_type": "code",
   "execution_count": 60,
   "metadata": {
    "collapsed": false,
    "scrolled": true
   },
   "outputs": [
    {
     "name": "stdout",
     "output_type": "stream",
     "text": [
      "pi:  3.14141496\n"
     ]
    }
   ],
   "source": [
    "print 'pi: ', sum(results_async.get())/np.double(samples)*4."
   ]
  },
  {
   "cell_type": "code",
   "execution_count": 61,
   "metadata": {
    "collapsed": false
   },
   "outputs": [
    {
     "name": "stdout",
     "output_type": "stream",
     "text": [
      "True\n"
     ]
    }
   ],
   "source": [
    "print results_async.ready()"
   ]
  },
  {
   "cell_type": "markdown",
   "metadata": {},
   "source": [
    "### 2.5 dview.apply"
   ]
  },
  {
   "cell_type": "code",
   "execution_count": 62,
   "metadata": {
    "collapsed": false
   },
   "outputs": [
    {
     "name": "stdout",
     "output_type": "stream",
     "text": [
      "CPU times: user 48.1 ms, sys: 4.63 ms, total: 52.8 ms\n",
      "Wall time: 8.93 s\n"
     ]
    }
   ],
   "source": [
    "%%time\n",
    "\n",
    "samples = 1E8\n",
    "ntasks = len(dview)\n",
    "chunk_size = int(samples/ntasks)\n",
    "\n",
    "dview.block = True\n",
    "results = dview.apply(sample_multiple, chunk_size)"
   ]
  },
  {
   "cell_type": "code",
   "execution_count": 63,
   "metadata": {
    "collapsed": false,
    "scrolled": true
   },
   "outputs": [
    {
     "name": "stdout",
     "output_type": "stream",
     "text": [
      "pi:  3.14148196\n"
     ]
    }
   ],
   "source": [
    "print 'pi: ', sum(results)/np.double(samples)*4."
   ]
  },
  {
   "cell_type": "markdown",
   "metadata": {},
   "source": [
    "### 2.6 tview.apply (single engine execution!)"
   ]
  },
  {
   "cell_type": "code",
   "execution_count": 64,
   "metadata": {
    "collapsed": false
   },
   "outputs": [
    {
     "name": "stdout",
     "output_type": "stream",
     "text": [
      "CPU times: user 1.38 ms, sys: 682 µs, total: 2.06 ms\n",
      "Wall time: 1.35 ms\n"
     ]
    }
   ],
   "source": [
    "%%time\n",
    "\n",
    "samples = 1E8\n",
    "ntasks = len(tview)\n",
    "chunk_size = int(samples/ntasks)\n",
    "\n",
    "dview.block = True\n",
    "results = tview.apply(sample_multiple, chunk_size)"
   ]
  },
  {
   "cell_type": "code",
   "execution_count": 65,
   "metadata": {
    "collapsed": false,
    "scrolled": true
   },
   "outputs": [
    {
     "name": "stdout",
     "output_type": "stream",
     "text": [
      "pi:  0.26181196\n"
     ]
    }
   ],
   "source": [
    "print 'pi: ', sum(results.get())/np.double(samples)*4."
   ]
  },
  {
   "cell_type": "code",
   "execution_count": 66,
   "metadata": {
    "collapsed": false,
    "scrolled": true
   },
   "outputs": [
    {
     "name": "stdout",
     "output_type": "stream",
     "text": [
      "pi:  3.14174352\n"
     ]
    }
   ],
   "source": [
    "print 'pi: ', sum(results.get())/np.double(samples)*4.*ntasks"
   ]
  },
  {
   "cell_type": "markdown",
   "metadata": {},
   "source": [
    "### 2.7 scatter & gather"
   ]
  },
  {
   "cell_type": "code",
   "execution_count": 67,
   "metadata": {
    "collapsed": false
   },
   "outputs": [],
   "source": [
    "samples = 1E8\n",
    "ntasks = 50\n",
    "chunk_size = int(samples/ntasks)"
   ]
  },
  {
   "cell_type": "code",
   "execution_count": 68,
   "metadata": {
    "collapsed": false
   },
   "outputs": [],
   "source": [
    "dview.scatter('chunk_size', [chunk_size for i in range(ntasks)])\n",
    "dview.scatter('sum_sample', [0 for i in range(ntasks)])"
   ]
  },
  {
   "cell_type": "code",
   "execution_count": 69,
   "metadata": {
    "collapsed": false
   },
   "outputs": [
    {
     "name": "stdout",
     "output_type": "stream",
     "text": [
      "[2000000, 2000000, 2000000, 2000000, 2000000]\n",
      "[2000000, 2000000, 2000000, 2000000, 2000000]\n",
      "[2000000, 2000000, 2000000, 2000000]\n",
      "[2000000, 2000000, 2000000, 2000000]\n",
      "[2000000, 2000000, 2000000, 2000000]\n",
      "[2000000, 2000000, 2000000, 2000000]\n",
      "[2000000, 2000000, 2000000, 2000000]\n",
      "[2000000, 2000000, 2000000, 2000000]\n",
      "[2000000, 2000000, 2000000, 2000000]\n",
      "[2000000, 2000000, 2000000, 2000000]\n",
      "[2000000, 2000000, 2000000, 2000000]\n",
      "[2000000, 2000000, 2000000, 2000000]\n"
     ]
    }
   ],
   "source": [
    "for cz in dview['chunk_size']:\n",
    "    print cz"
   ]
  },
  {
   "cell_type": "code",
   "execution_count": 70,
   "metadata": {
    "collapsed": false,
    "scrolled": true
   },
   "outputs": [
    {
     "data": {
      "text/plain": [
       "[<function sample_multiple>,\n",
       " <function sample_multiple>,\n",
       " <function sample_multiple>,\n",
       " <function sample_multiple>,\n",
       " <function sample_multiple>,\n",
       " <function sample_multiple>,\n",
       " <function sample_multiple>,\n",
       " <function sample_multiple>,\n",
       " <function sample_multiple>,\n",
       " <function sample_multiple>,\n",
       " <function sample_multiple>,\n",
       " <function sample_multiple>]"
      ]
     },
     "execution_count": 70,
     "metadata": {},
     "output_type": "execute_result"
    }
   ],
   "source": [
    "dview['sample_multiple']"
   ]
  },
  {
   "cell_type": "code",
   "execution_count": 71,
   "metadata": {
    "collapsed": false
   },
   "outputs": [
    {
     "data": {
      "text/plain": [
       "<AsyncResult: finished>"
      ]
     },
     "execution_count": 71,
     "metadata": {},
     "output_type": "execute_result"
    }
   ],
   "source": [
    "dview.execute('sum_sample = [sample_multiple(chunk_size_) for chunk_size_ in chunk_size]')"
   ]
  },
  {
   "cell_type": "code",
   "execution_count": 72,
   "metadata": {
    "collapsed": false
   },
   "outputs": [
    {
     "data": {
      "text/plain": [
       "[[1571157, 1571123, 1571136, 1569817, 1570379],\n",
       " [1571418, 1571334, 1570522, 1570385, 1571058],\n",
       " [1570446, 1571397, 1572286, 1570570],\n",
       " [1571342, 1571118, 1569939, 1571145],\n",
       " [1570731, 1570597, 1570934, 1571144],\n",
       " [1571843, 1571445, 1569875, 1570750],\n",
       " [1570290, 1570486, 1571129, 1570740],\n",
       " [1570766, 1571443, 1569966, 1570227],\n",
       " [1571854, 1570043, 1570942, 1570181],\n",
       " [1570318, 1569240, 1570557, 1571118],\n",
       " [1571253, 1569559, 1570930, 1571570],\n",
       " [1570607, 1570212, 1570892, 1570922]]"
      ]
     },
     "execution_count": 72,
     "metadata": {},
     "output_type": "execute_result"
    }
   ],
   "source": [
    "dview['sum_sample']"
   ]
  },
  {
   "cell_type": "code",
   "execution_count": 73,
   "metadata": {
    "collapsed": false
   },
   "outputs": [
    {
     "data": {
      "text/plain": [
       "3.1415654399999999"
      ]
     },
     "execution_count": 73,
     "metadata": {},
     "output_type": "execute_result"
    }
   ],
   "source": [
    "sum(dview.gather('sum_sample'))/samples*4."
   ]
  },
  {
   "cell_type": "code",
   "execution_count": null,
   "metadata": {
    "collapsed": true
   },
   "outputs": [],
   "source": []
  },
  {
   "cell_type": "markdown",
   "metadata": {},
   "source": [
    "## view.wait()\n",
    "can be used to block the async results"
   ]
  },
  {
   "cell_type": "code",
   "execution_count": 74,
   "metadata": {
    "collapsed": false
   },
   "outputs": [
    {
     "name": "stdout",
     "output_type": "stream",
     "text": [
      "CPU times: user 16.5 ms, sys: 1.13 ms, total: 17.6 ms\n",
      "Wall time: 15.8 ms\n"
     ]
    }
   ],
   "source": [
    "%%time\n",
    "\n",
    "samples = 1E8\n",
    "ntasks = 10\n",
    "chunk_size = int(samples/ntasks)\n",
    "\n",
    "dview.block = False\n",
    "results_async = dview.map_async(sample_multiple, \n",
    "                                [chunk_size for i in range(ntasks)])"
   ]
  },
  {
   "cell_type": "code",
   "execution_count": 75,
   "metadata": {
    "collapsed": false
   },
   "outputs": [
    {
     "data": {
      "text/plain": [
       "False"
      ]
     },
     "execution_count": 75,
     "metadata": {},
     "output_type": "execute_result"
    }
   ],
   "source": [
    "results_async.ready()"
   ]
  },
  {
   "cell_type": "code",
   "execution_count": 76,
   "metadata": {
    "collapsed": false
   },
   "outputs": [
    {
     "data": {
      "text/plain": [
       "True"
      ]
     },
     "execution_count": 76,
     "metadata": {},
     "output_type": "execute_result"
    }
   ],
   "source": [
    "dview.wait(results_async)"
   ]
  },
  {
   "cell_type": "code",
   "execution_count": 77,
   "metadata": {
    "collapsed": false
   },
   "outputs": [
    {
     "name": "stdout",
     "output_type": "stream",
     "text": [
      "pi:  3.14181932\n"
     ]
    }
   ],
   "source": [
    "print 'pi: ', sum(results_async.get())/np.double(samples)*4."
   ]
  },
  {
   "cell_type": "code",
   "execution_count": null,
   "metadata": {
    "collapsed": true
   },
   "outputs": [],
   "source": []
  },
  {
   "cell_type": "markdown",
   "metadata": {},
   "source": [
    "## open qtconsole to engines?"
   ]
  },
  {
   "cell_type": "code",
   "execution_count": 78,
   "metadata": {
    "collapsed": false
   },
   "outputs": [
    {
     "data": {
      "text/plain": [
       "<AsyncResult: execute>"
      ]
     },
     "execution_count": 78,
     "metadata": {},
     "output_type": "execute_result"
    }
   ],
   "source": [
    "dview = rc[::4]\n",
    "dview.execute('qtconsole')"
   ]
  },
  {
   "cell_type": "markdown",
   "metadata": {},
   "source": [
    "# Discussion: how to further improve the speed?\n",
    "- 1.\n",
    "- 2.\n"
   ]
  },
  {
   "cell_type": "code",
   "execution_count": null,
   "metadata": {
    "collapsed": true
   },
   "outputs": [],
   "source": []
  }
 ],
 "metadata": {
  "kernelspec": {
   "display_name": "Python 2",
   "language": "python",
   "name": "python2"
  },
  "language_info": {
   "codemirror_mode": {
    "name": "ipython",
    "version": 2
   },
   "file_extension": ".py",
   "mimetype": "text/x-python",
   "name": "python",
   "nbconvert_exporter": "python",
   "pygments_lexer": "ipython2",
   "version": "2.7.6"
  }
 },
 "nbformat": 4,
 "nbformat_minor": 0
}
